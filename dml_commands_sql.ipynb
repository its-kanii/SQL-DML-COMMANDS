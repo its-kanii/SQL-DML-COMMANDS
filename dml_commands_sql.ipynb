{
  "nbformat": 4,
  "nbformat_minor": 0,
  "metadata": {
    "colab": {
      "provenance": [],
      "authorship_tag": "ABX9TyNz8j86ENM89drL67wbp75+",
      "include_colab_link": true
    },
    "kernelspec": {
      "name": "python3",
      "display_name": "Python 3"
    },
    "language_info": {
      "name": "python"
    }
  },
  "cells": [
    {
      "cell_type": "markdown",
      "metadata": {
        "id": "view-in-github",
        "colab_type": "text"
      },
      "source": [
        "<a href=\"https://colab.research.google.com/github/its-kanii/SQL-DML-COMMANDS/blob/main/dml_commands_sql.ipynb\" target=\"_parent\"><img src=\"https://colab.research.google.com/assets/colab-badge.svg\" alt=\"Open In Colab\"/></a>"
      ]
    },
    {
      "cell_type": "markdown",
      "source": [
        "# 1️⃣ SQL DML Commands with Queries"
      ],
      "metadata": {
        "id": "X3d46QWoMWMN"
      }
    },
    {
      "cell_type": "markdown",
      "source": [
        "# 🔹 INSERT Command\n",
        "Query:"
      ],
      "metadata": {
        "id": "q6hyaWHMMZ8C"
      }
    },
    {
      "cell_type": "code",
      "source": [
        "%%sql\n",
        "INSERT INTO table_name (column1, column2, column3)\n",
        "VALUES (value1, value2, value3);"
      ],
      "metadata": {
        "id": "qAL3Jm6nMiR_"
      },
      "execution_count": null,
      "outputs": []
    },
    {
      "cell_type": "markdown",
      "source": [
        "#📌 Purpose: Adds new records to a table."
      ],
      "metadata": {
        "id": "5Iw54ruzMnJE"
      }
    },
    {
      "cell_type": "markdown",
      "source": [
        "#🔹 UPDATE Command\n",
        "Query:"
      ],
      "metadata": {
        "id": "fk6rAr0RMziz"
      }
    },
    {
      "cell_type": "code",
      "source": [
        "%%sql\n",
        "UPDATE table_name\n",
        "SET column1 = value1, column2 = value2\n",
        "WHERE condition;"
      ],
      "metadata": {
        "id": "3lfDIq2KMqxG"
      },
      "execution_count": null,
      "outputs": []
    },
    {
      "cell_type": "markdown",
      "source": [
        "#📌 Purpose: Modifies existing records in a table."
      ],
      "metadata": {
        "id": "5RwT7UMSM6wW"
      }
    },
    {
      "cell_type": "markdown",
      "source": [
        "#🔹 DELETE Command\n",
        "Query:"
      ],
      "metadata": {
        "id": "wG0o5isUM9_z"
      }
    },
    {
      "cell_type": "code",
      "source": [
        "%%sql\n",
        "DELETE FROM table_name\n",
        "WHERE condition;"
      ],
      "metadata": {
        "id": "7JwpEcllNCWQ"
      },
      "execution_count": null,
      "outputs": []
    },
    {
      "cell_type": "markdown",
      "source": [
        "#📌 Purpose: Removes records from a table based on a condition."
      ],
      "metadata": {
        "id": "eUSnTaS_NI8b"
      }
    },
    {
      "cell_type": "markdown",
      "source": [
        "#🔹 SELECT Command\n",
        "Query:"
      ],
      "metadata": {
        "id": "2Yw0jP1ONMkb"
      }
    },
    {
      "cell_type": "code",
      "source": [
        "%%sql\n",
        "SELECT column1, column2\n",
        "FROM table_name\n",
        "WHERE condition;"
      ],
      "metadata": {
        "id": "RmkLFRPdNR88"
      },
      "execution_count": null,
      "outputs": []
    },
    {
      "cell_type": "markdown",
      "source": [
        "#📌 Purpose: Retrieves data from a table."
      ],
      "metadata": {
        "id": "Mc9mU_bMNViI"
      }
    },
    {
      "cell_type": "markdown",
      "source": [
        "#2️⃣ Real-Time Example: Employee Management System\n",
        "🏢 Scenario:\n",
        "A company manages its employee database and wants to:\n",
        "\n",
        "✅ Add new employees ✨\n",
        "\n",
        "✅ Update employee salaries 💰\n",
        "\n",
        "✅ Remove employees who left the company 🗑️\n",
        "\n",
        "✅ Fetch employee details 📊"
      ],
      "metadata": {
        "id": "y5jXmI9INYuR"
      }
    },
    {
      "cell_type": "markdown",
      "source": [
        "#SQL Implementation:\n",
        "✅ INSERT Employee Records"
      ],
      "metadata": {
        "id": "XbMgOAMTNlj3"
      }
    },
    {
      "cell_type": "code",
      "source": [
        "%%sql\n",
        "INSERT INTO Employees (EmpID, Name, Age, Department, Salary)\n",
        "VALUES (1, 'Alice Johnson', 30, 'HR', 60000),\n",
        "       (2, 'Bob Smith', 35, 'IT', 80000),\n",
        "       (3, 'Charlie Brown', 28, 'Finance', 75000);"
      ],
      "metadata": {
        "id": "X-KOKedcNtub"
      },
      "execution_count": null,
      "outputs": []
    },
    {
      "cell_type": "markdown",
      "source": [
        "\n",
        "✅ UPDATE Employee Salary"
      ],
      "metadata": {
        "id": "2VKu-T_tNxXE"
      }
    },
    {
      "cell_type": "code",
      "source": [
        "%%sql\n",
        "UPDATE Employees\n",
        "SET Salary = 85000\n",
        "WHERE EmpID = 2;"
      ],
      "metadata": {
        "id": "9uMFg4M8N3QZ"
      },
      "execution_count": null,
      "outputs": []
    },
    {
      "cell_type": "markdown",
      "source": [
        "✅ DELETE an Employee"
      ],
      "metadata": {
        "id": "fRGLg-mYN_mP"
      }
    },
    {
      "cell_type": "code",
      "source": [
        "%%sql\n",
        "DELETE FROM Employees\n",
        "WHERE EmpID = 3;"
      ],
      "metadata": {
        "id": "ebOAfJ2aOCmo"
      },
      "execution_count": null,
      "outputs": []
    },
    {
      "cell_type": "markdown",
      "source": [
        "✅ SELECT Employee Details"
      ],
      "metadata": {
        "id": "0XfZ9INbOIK7"
      }
    },
    {
      "cell_type": "code",
      "source": [
        "%%sql\n",
        "SELECT * FROM Employees;"
      ],
      "metadata": {
        "id": "fb4xLBQIOLRC"
      },
      "execution_count": null,
      "outputs": []
    },
    {
      "cell_type": "markdown",
      "source": [
        "#3️⃣ Use Case: Why is this Useful?\n",
        "🔹 HR Management Systems: Managing employee data efficiently.\n",
        "\n",
        "🔹 E-Commerce Platforms: Handling customer orders and product inventory.\n",
        "\n",
        "🔹 Banking Systems: Storing and updating transaction records.\n",
        "\n",
        "🔹 Healthcare Applications: Keeping patient records up to date."
      ],
      "metadata": {
        "id": "DrFKku-0OaWh"
      }
    }
  ]
}